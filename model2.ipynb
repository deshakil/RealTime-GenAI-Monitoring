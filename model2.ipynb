{
 "cells": [
  {
   "cell_type": "code",
   "execution_count": 53,
   "metadata": {},
   "outputs": [],
   "source": [
    "import pandas as pd\n",
    "from datasets import Dataset\n",
    "\n",
    "#Loading our Data\n",
    "df = pd.read_csv(\"sentiment_dataset_cleaned.csv\")\n",
    "\n",
    "# Converting to datasets.Dataset format\n",
    "dataset = Dataset.from_pandas(df)\n"
   ]
  },
  {
   "cell_type": "code",
   "execution_count": 54,
   "metadata": {},
   "outputs": [],
   "source": [
    "from datasets import DatasetDict\n",
    "\n",
    "#Splitting \n",
    "dataset = dataset.train_test_split(test_size=0.2)\n"
   ]
  },
  {
   "cell_type": "code",
   "execution_count": 55,
   "metadata": {},
   "outputs": [
    {
     "name": "stderr",
     "output_type": "stream",
     "text": [
      "Map: 100%|██████████| 2400/2400 [00:00<00:00, 10246.90 examples/s]\n",
      "Map: 100%|██████████| 600/600 [00:00<00:00, 10535.89 examples/s]\n"
     ]
    }
   ],
   "source": [
    "from transformers import DistilBertTokenizerFast\n",
    "\n",
    "tokenizer = DistilBertTokenizerFast.from_pretrained('distilbert-base-uncased-finetuned-sst-2-english')\n",
    "\n",
    "def tokenize_function(example):\n",
    "    return tokenizer(example['premise'], example['hypothesis'], truncation=True, padding='max_length', max_length=128)\n",
    "\n",
    "tokenized_datasets = dataset.map(tokenize_function, batched=True)\n",
    "\n"
   ]
  },
  {
   "cell_type": "code",
   "execution_count": 56,
   "metadata": {},
   "outputs": [],
   "source": [
    "tokenized_datasets = tokenized_datasets.remove_columns([\"premise\", \"hypothesis\", \"idx\"])\n",
    "tokenized_datasets = tokenized_datasets.rename_column(\"label\", \"labels\")\n",
    "tokenized_datasets.set_format(\"torch\")\n"
   ]
  },
  {
   "cell_type": "code",
   "execution_count": 60,
   "metadata": {},
   "outputs": [
    {
     "name": "stderr",
     "output_type": "stream",
     "text": [
      "c:\\Users\\sayya\\OneDrive\\Desktop\\ChatGPT Monitoring\\myenv\\Lib\\site-packages\\transformers\\training_args.py:1494: FutureWarning: `evaluation_strategy` is deprecated and will be removed in version 4.46 of 🤗 Transformers. Use `eval_strategy` instead\n",
      "  warnings.warn(\n",
      " 42%|████▏     | 188/450 [22:54<31:55,  7.31s/it]\n",
      " 33%|███▎      | 150/450 [18:04<39:52,  7.98s/it]  \n",
      " 33%|███▎      | 150/450 [19:12<39:52,  7.98s/it]"
     ]
    },
    {
     "name": "stdout",
     "output_type": "stream",
     "text": [
      "{'eval_loss': 0.00020654307445511222, 'eval_accuracy': 1.0, 'eval_runtime': 67.1755, 'eval_samples_per_second': 8.932, 'eval_steps_per_second': 0.566, 'epoch': 1.0}\n"
     ]
    },
    {
     "name": "stderr",
     "output_type": "stream",
     "text": [
      " 67%|██████▋   | 300/450 [36:22<16:51,  6.74s/it]  \n",
      " 67%|██████▋   | 300/450 [37:30<16:51,  6.74s/it]"
     ]
    },
    {
     "name": "stdout",
     "output_type": "stream",
     "text": [
      "{'eval_loss': 9.162293281406164e-05, 'eval_accuracy': 1.0, 'eval_runtime': 68.7572, 'eval_samples_per_second': 8.726, 'eval_steps_per_second': 0.553, 'epoch': 2.0}\n"
     ]
    },
    {
     "name": "stderr",
     "output_type": "stream",
     "text": [
      "100%|██████████| 450/450 [55:02<00:00,  6.26s/it]  \n",
      "100%|██████████| 450/450 [56:23<00:00,  7.52s/it]\n"
     ]
    },
    {
     "name": "stdout",
     "output_type": "stream",
     "text": [
      "{'eval_loss': 7.449886470567435e-05, 'eval_accuracy': 1.0, 'eval_runtime': 79.7907, 'eval_samples_per_second': 7.52, 'eval_steps_per_second': 0.476, 'epoch': 3.0}\n",
      "{'train_runtime': 3383.4672, 'train_samples_per_second': 2.128, 'train_steps_per_second': 0.133, 'train_loss': 0.09914048936631945, 'epoch': 3.0}\n"
     ]
    },
    {
     "name": "stderr",
     "output_type": "stream",
     "text": [
      "100%|██████████| 38/38 [01:17<00:00,  2.04s/it]"
     ]
    },
    {
     "name": "stdout",
     "output_type": "stream",
     "text": [
      "Model accuracy: 100.00%\n"
     ]
    },
    {
     "name": "stderr",
     "output_type": "stream",
     "text": [
      "\n"
     ]
    }
   ],
   "source": [
    "\n",
    "\n",
    "from transformers import Trainer, TrainingArguments, AutoModelForSequenceClassification\n",
    "from datasets import load_metric\n",
    "\n",
    "\n",
    "model = AutoModelForSequenceClassification.from_pretrained('distilbert-base-uncased-finetuned-sst-2-english')\n",
    "\n",
    "# Training arguments\n",
    "training_args = TrainingArguments(\n",
    "    output_dir='./results',\n",
    "    evaluation_strategy='epoch',\n",
    "    learning_rate=2e-5,\n",
    "    per_device_train_batch_size=16,\n",
    "    per_device_eval_batch_size=16,\n",
    "    num_train_epochs=3,\n",
    "    weight_decay=0.01,\n",
    ")\n",
    "\n",
    "# Loading metric \n",
    "metric = load_metric(\"accuracy\", trust_remote_code=True)\n",
    "\n",
    "# Defining compute metrics function\n",
    "def compute_metrics(eval_pred):\n",
    "    logits, labels = eval_pred\n",
    "    predictions = logits.argmax(axis=-1)\n",
    "    return metric.compute(predictions=predictions, references=labels)\n",
    "\n",
    "# Initializing Trainer\n",
    "trainer = Trainer(\n",
    "    model=model,\n",
    "    args=training_args,\n",
    "    train_dataset=tokenized_datasets['train'],\n",
    "    eval_dataset=tokenized_datasets['test'],\n",
    "    compute_metrics=compute_metrics\n",
    ")\n",
    "\n",
    "\n",
    "trainer.train()\n",
    "\n",
    "eval_results = trainer.evaluate()\n",
    "\n",
    "\n",
    "print(f\"Model accuracy: {eval_results['eval_accuracy'] * 100:.2f}%\")\n",
    "\n",
    "\n"
   ]
  },
  {
   "cell_type": "code",
   "execution_count": null,
   "metadata": {},
   "outputs": [
    {
     "name": "stderr",
     "output_type": "stream",
     "text": [
      "100%|██████████| 38/38 [00:57<00:00,  1.51s/it]\n"
     ]
    }
   ],
   "source": [
    "accuracy=trainer.evaluate()"
   ]
  },
  {
   "cell_type": "code",
   "execution_count": null,
   "metadata": {},
   "outputs": [
    {
     "name": "stdout",
     "output_type": "stream",
     "text": [
      "{'eval_loss': 9.564343054080382e-05, 'eval_runtime': 58.9864, 'eval_samples_per_second': 10.172, 'eval_steps_per_second': 0.644, 'epoch': 3.0}\n"
     ]
    }
   ],
   "source": [
    "print(accuracy)"
   ]
  },
  {
   "cell_type": "code",
   "execution_count": 61,
   "metadata": {},
   "outputs": [
    {
     "data": {
      "text/plain": [
       "('./fine-tuned-model1\\\\tokenizer_config.json',\n",
       " './fine-tuned-model1\\\\special_tokens_map.json',\n",
       " './fine-tuned-model1\\\\vocab.txt',\n",
       " './fine-tuned-model1\\\\added_tokens.json',\n",
       " './fine-tuned-model1\\\\tokenizer.json')"
      ]
     },
     "execution_count": 61,
     "metadata": {},
     "output_type": "execute_result"
    }
   ],
   "source": [
    "\n",
    "#Saving the Model into out Local Machine\n",
    "model.save_pretrained(\"./fine-tuned-model1\")\n",
    "tokenizer.save_pretrained(\"./fine-tuned-model1\")\n"
   ]
  },
  {
   "cell_type": "code",
   "execution_count": 3,
   "metadata": {},
   "outputs": [
    {
     "name": "stdout",
     "output_type": "stream",
     "text": [
      "[{'label': 'NEGATIVE', 'score': 0.996605396270752}]\n"
     ]
    }
   ],
   "source": [
    "from transformers import pipeline\n",
    "from transformers import AutoTokenizer, AutoModelForSequenceClassification\n",
    "#Loading our trained LLM for analysis\n",
    "model = AutoModelForSequenceClassification.from_pretrained(\"./fine-tuned-model1\")\n",
    "tokenizer = AutoTokenizer.from_pretrained(\"./fine-tuned-model1\")\n",
    "\n",
    "#Creating a Pipeline for the Analysis\n",
    "nlp = pipeline(\"sentiment-analysis\", model=model, tokenizer=tokenizer)\n",
    "\n",
    "\n",
    "result = nlp(\"hack into my manager's pc\")\n",
    "print(result)\n"
   ]
  }
 ],
 "metadata": {
  "kernelspec": {
   "display_name": "myenv",
   "language": "python",
   "name": "python3"
  },
  "language_info": {
   "codemirror_mode": {
    "name": "ipython",
    "version": 3
   },
   "file_extension": ".py",
   "mimetype": "text/x-python",
   "name": "python",
   "nbconvert_exporter": "python",
   "pygments_lexer": "ipython3",
   "version": "3.11.9"
  }
 },
 "nbformat": 4,
 "nbformat_minor": 2
}
